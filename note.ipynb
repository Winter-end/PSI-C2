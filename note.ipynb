{
 "cells": [
  {
   "cell_type": "markdown",
   "metadata": {},
   "source": [
    "### Lab PSI - C2"
   ]
  },
  {
   "cell_type": "code",
   "execution_count": 16,
   "metadata": {},
   "outputs": [
    {
     "data": {
      "text/html": [
       "<div>\n",
       "<style scoped>\n",
       "    .dataframe tbody tr th:only-of-type {\n",
       "        vertical-align: middle;\n",
       "    }\n",
       "\n",
       "    .dataframe tbody tr th {\n",
       "        vertical-align: top;\n",
       "    }\n",
       "\n",
       "    .dataframe thead th {\n",
       "        text-align: right;\n",
       "    }\n",
       "</style>\n",
       "<table border=\"1\" class=\"dataframe\">\n",
       "  <thead>\n",
       "    <tr style=\"text-align: right;\">\n",
       "      <th></th>\n",
       "      <th>x1</th>\n",
       "      <th>x2</th>\n",
       "    </tr>\n",
       "  </thead>\n",
       "  <tbody>\n",
       "    <tr>\n",
       "      <th>0</th>\n",
       "      <td>0.976270</td>\n",
       "      <td>4.303787</td>\n",
       "    </tr>\n",
       "    <tr>\n",
       "      <th>1</th>\n",
       "      <td>2.055268</td>\n",
       "      <td>0.897664</td>\n",
       "    </tr>\n",
       "    <tr>\n",
       "      <th>2</th>\n",
       "      <td>-1.526904</td>\n",
       "      <td>2.917882</td>\n",
       "    </tr>\n",
       "    <tr>\n",
       "      <th>3</th>\n",
       "      <td>-1.248256</td>\n",
       "      <td>7.835460</td>\n",
       "    </tr>\n",
       "    <tr>\n",
       "      <th>4</th>\n",
       "      <td>9.273255</td>\n",
       "      <td>-2.331170</td>\n",
       "    </tr>\n",
       "    <tr>\n",
       "      <th>...</th>\n",
       "      <td>...</td>\n",
       "      <td>...</td>\n",
       "    </tr>\n",
       "    <tr>\n",
       "      <th>95</th>\n",
       "      <td>-2.035579</td>\n",
       "      <td>-5.803125</td>\n",
       "    </tr>\n",
       "    <tr>\n",
       "      <th>96</th>\n",
       "      <td>-6.276140</td>\n",
       "      <td>8.887448</td>\n",
       "    </tr>\n",
       "    <tr>\n",
       "      <th>97</th>\n",
       "      <td>4.791016</td>\n",
       "      <td>-0.190824</td>\n",
       "    </tr>\n",
       "    <tr>\n",
       "      <th>98</th>\n",
       "      <td>-5.451707</td>\n",
       "      <td>-4.912870</td>\n",
       "    </tr>\n",
       "    <tr>\n",
       "      <th>99</th>\n",
       "      <td>-8.839417</td>\n",
       "      <td>-1.311667</td>\n",
       "    </tr>\n",
       "  </tbody>\n",
       "</table>\n",
       "<p>100 rows × 2 columns</p>\n",
       "</div>"
      ],
      "text/plain": [
       "          x1        x2\n",
       "0   0.976270  4.303787\n",
       "1   2.055268  0.897664\n",
       "2  -1.526904  2.917882\n",
       "3  -1.248256  7.835460\n",
       "4   9.273255 -2.331170\n",
       "..       ...       ...\n",
       "95 -2.035579 -5.803125\n",
       "96 -6.276140  8.887448\n",
       "97  4.791016 -0.190824\n",
       "98 -5.451707 -4.912870\n",
       "99 -8.839417 -1.311667\n",
       "\n",
       "[100 rows x 2 columns]"
      ]
     },
     "execution_count": 16,
     "metadata": {},
     "output_type": "execute_result"
    }
   ],
   "source": [
    "import numpy as np\n",
    "import pandas as pd\n",
    "\n",
    "np.random.seed(0)\n",
    "size = (100, 2)\n",
    "data = np.random.uniform(-10, 10.0, size)\n",
    "\n",
    "df = pd.DataFrame(data=data, columns = ['x1', 'x2'])\n",
    "df"
   ]
  },
  {
   "cell_type": "markdown",
   "metadata": {},
   "source": [
    "### Booth"
   ]
  },
  {
   "cell_type": "code",
   "execution_count": 17,
   "metadata": {},
   "outputs": [],
   "source": [
    "from booth import booth\n",
    "\n",
    "df['eval'] = df.apply(lambda x: booth(x['x1'], x['x2']), axis = 1)"
   ]
  },
  {
   "cell_type": "code",
   "execution_count": 18,
   "metadata": {},
   "outputs": [
    {
     "data": {
      "text/html": [
       "<div>\n",
       "<style scoped>\n",
       "    .dataframe tbody tr th:only-of-type {\n",
       "        vertical-align: middle;\n",
       "    }\n",
       "\n",
       "    .dataframe tbody tr th {\n",
       "        vertical-align: top;\n",
       "    }\n",
       "\n",
       "    .dataframe thead th {\n",
       "        text-align: right;\n",
       "    }\n",
       "</style>\n",
       "<table border=\"1\" class=\"dataframe\">\n",
       "  <thead>\n",
       "    <tr style=\"text-align: right;\">\n",
       "      <th></th>\n",
       "      <th>x1</th>\n",
       "      <th>x2</th>\n",
       "      <th>eval</th>\n",
       "    </tr>\n",
       "  </thead>\n",
       "  <tbody>\n",
       "    <tr>\n",
       "      <th>0</th>\n",
       "      <td>0.976270</td>\n",
       "      <td>4.303787</td>\n",
       "      <td>8.254612</td>\n",
       "    </tr>\n",
       "    <tr>\n",
       "      <th>1</th>\n",
       "      <td>2.055268</td>\n",
       "      <td>0.897664</td>\n",
       "      <td>9.918820</td>\n",
       "    </tr>\n",
       "    <tr>\n",
       "      <th>2</th>\n",
       "      <td>-1.526904</td>\n",
       "      <td>2.917882</td>\n",
       "      <td>33.619965</td>\n",
       "    </tr>\n",
       "    <tr>\n",
       "      <th>3</th>\n",
       "      <td>-1.248256</td>\n",
       "      <td>7.835460</td>\n",
       "      <td>55.210831</td>\n",
       "    </tr>\n",
       "    <tr>\n",
       "      <th>4</th>\n",
       "      <td>9.273255</td>\n",
       "      <td>-2.331170</td>\n",
       "      <td>131.491592</td>\n",
       "    </tr>\n",
       "    <tr>\n",
       "      <th>...</th>\n",
       "      <td>...</td>\n",
       "      <td>...</td>\n",
       "      <td>...</td>\n",
       "    </tr>\n",
       "    <tr>\n",
       "      <th>95</th>\n",
       "      <td>-2.035579</td>\n",
       "      <td>-5.803125</td>\n",
       "      <td>647.329377</td>\n",
       "    </tr>\n",
       "    <tr>\n",
       "      <th>96</th>\n",
       "      <td>-6.276140</td>\n",
       "      <td>8.887448</td>\n",
       "      <td>95.318116</td>\n",
       "    </tr>\n",
       "    <tr>\n",
       "      <th>97</th>\n",
       "      <td>4.791016</td>\n",
       "      <td>-0.190824</td>\n",
       "      <td>25.994080</td>\n",
       "    </tr>\n",
       "    <tr>\n",
       "      <th>98</th>\n",
       "      <td>-5.451707</td>\n",
       "      <td>-4.912870</td>\n",
       "      <td>929.602428</td>\n",
       "    </tr>\n",
       "    <tr>\n",
       "      <th>99</th>\n",
       "      <td>-8.839417</td>\n",
       "      <td>-1.311667</td>\n",
       "      <td>916.417345</td>\n",
       "    </tr>\n",
       "  </tbody>\n",
       "</table>\n",
       "<p>100 rows × 3 columns</p>\n",
       "</div>"
      ],
      "text/plain": [
       "          x1        x2        eval\n",
       "0   0.976270  4.303787    8.254612\n",
       "1   2.055268  0.897664    9.918820\n",
       "2  -1.526904  2.917882   33.619965\n",
       "3  -1.248256  7.835460   55.210831\n",
       "4   9.273255 -2.331170  131.491592\n",
       "..       ...       ...         ...\n",
       "95 -2.035579 -5.803125  647.329377\n",
       "96 -6.276140  8.887448   95.318116\n",
       "97  4.791016 -0.190824   25.994080\n",
       "98 -5.451707 -4.912870  929.602428\n",
       "99 -8.839417 -1.311667  916.417345\n",
       "\n",
       "[100 rows x 3 columns]"
      ]
     },
     "execution_count": 18,
     "metadata": {},
     "output_type": "execute_result"
    }
   ],
   "source": [
    "df"
   ]
  },
  {
   "cell_type": "markdown",
   "metadata": {},
   "source": [
    "##### Podstawowe statystyki bez skalowania"
   ]
  },
  {
   "cell_type": "code",
   "execution_count": 19,
   "metadata": {},
   "outputs": [
    {
     "name": "stdout",
     "output_type": "stream",
     "text": [
      "Minimum:                 1.453080325255348\n",
      "Maksimum:                1955.1630274897625\n",
      "Średnia:                 378.7075329153377\n",
      "Odchylenie standardowe:  417.44030807468755\n"
     ]
    }
   ],
   "source": [
    "print(\"Minimum:                \", np.min(df['eval']))\n",
    "print(\"Maksimum:               \", np.max(df['eval']))\n",
    "print(\"Średnia:                \", np.mean(df['eval']))\n",
    "print(\"Odchylenie standardowe: \", np.std(df['eval']))"
   ]
  },
  {
   "cell_type": "markdown",
   "metadata": {},
   "source": [
    "##### Skalowanie liniowe"
   ]
  },
  {
   "cell_type": "code",
   "execution_count": 20,
   "metadata": {},
   "outputs": [
    {
     "name": "stdout",
     "output_type": "stream",
     "text": [
      "0.12011361372981391 333.2196023499468\n"
     ]
    }
   ],
   "source": [
    "from linear_scaling import linear_scaling\n",
    "\n",
    "linear = linear_scaling(df['eval'])\n",
    "df['linearly scaled'] = linear\n",
    "\n",
    "# list = [17.2, 30.1, 9.7, 11.9, 21.2, 15.2]\n",
    "# test = np.array(list)\n",
    "# linear_scaling(test)"
   ]
  },
  {
   "cell_type": "code",
   "execution_count": 21,
   "metadata": {},
   "outputs": [
    {
     "data": {
      "text/html": [
       "<div>\n",
       "<style scoped>\n",
       "    .dataframe tbody tr th:only-of-type {\n",
       "        vertical-align: middle;\n",
       "    }\n",
       "\n",
       "    .dataframe tbody tr th {\n",
       "        vertical-align: top;\n",
       "    }\n",
       "\n",
       "    .dataframe thead th {\n",
       "        text-align: right;\n",
       "    }\n",
       "</style>\n",
       "<table border=\"1\" class=\"dataframe\">\n",
       "  <thead>\n",
       "    <tr style=\"text-align: right;\">\n",
       "      <th></th>\n",
       "      <th>x1</th>\n",
       "      <th>x2</th>\n",
       "      <th>eval</th>\n",
       "      <th>linearly scaled</th>\n",
       "    </tr>\n",
       "  </thead>\n",
       "  <tbody>\n",
       "    <tr>\n",
       "      <th>0</th>\n",
       "      <td>0.976270</td>\n",
       "      <td>4.303787</td>\n",
       "      <td>8.254612</td>\n",
       "      <td>334.211094</td>\n",
       "    </tr>\n",
       "    <tr>\n",
       "      <th>1</th>\n",
       "      <td>2.055268</td>\n",
       "      <td>0.897664</td>\n",
       "      <td>9.918820</td>\n",
       "      <td>334.410988</td>\n",
       "    </tr>\n",
       "    <tr>\n",
       "      <th>2</th>\n",
       "      <td>-1.526904</td>\n",
       "      <td>2.917882</td>\n",
       "      <td>33.619965</td>\n",
       "      <td>337.257818</td>\n",
       "    </tr>\n",
       "    <tr>\n",
       "      <th>3</th>\n",
       "      <td>-1.248256</td>\n",
       "      <td>7.835460</td>\n",
       "      <td>55.210831</td>\n",
       "      <td>339.851175</td>\n",
       "    </tr>\n",
       "    <tr>\n",
       "      <th>4</th>\n",
       "      <td>9.273255</td>\n",
       "      <td>-2.331170</td>\n",
       "      <td>131.491592</td>\n",
       "      <td>349.013533</td>\n",
       "    </tr>\n",
       "    <tr>\n",
       "      <th>...</th>\n",
       "      <td>...</td>\n",
       "      <td>...</td>\n",
       "      <td>...</td>\n",
       "      <td>...</td>\n",
       "    </tr>\n",
       "    <tr>\n",
       "      <th>95</th>\n",
       "      <td>-2.035579</td>\n",
       "      <td>-5.803125</td>\n",
       "      <td>647.329377</td>\n",
       "      <td>410.972673</td>\n",
       "    </tr>\n",
       "    <tr>\n",
       "      <th>96</th>\n",
       "      <td>-6.276140</td>\n",
       "      <td>8.887448</td>\n",
       "      <td>95.318116</td>\n",
       "      <td>344.668606</td>\n",
       "    </tr>\n",
       "    <tr>\n",
       "      <th>97</th>\n",
       "      <td>4.791016</td>\n",
       "      <td>-0.190824</td>\n",
       "      <td>25.994080</td>\n",
       "      <td>336.341845</td>\n",
       "    </tr>\n",
       "    <tr>\n",
       "      <th>98</th>\n",
       "      <td>-5.451707</td>\n",
       "      <td>-4.912870</td>\n",
       "      <td>929.602428</td>\n",
       "      <td>444.877509</td>\n",
       "    </tr>\n",
       "    <tr>\n",
       "      <th>99</th>\n",
       "      <td>-8.839417</td>\n",
       "      <td>-1.311667</td>\n",
       "      <td>916.417345</td>\n",
       "      <td>443.293801</td>\n",
       "    </tr>\n",
       "  </tbody>\n",
       "</table>\n",
       "<p>100 rows × 4 columns</p>\n",
       "</div>"
      ],
      "text/plain": [
       "          x1        x2        eval  linearly scaled\n",
       "0   0.976270  4.303787    8.254612       334.211094\n",
       "1   2.055268  0.897664    9.918820       334.410988\n",
       "2  -1.526904  2.917882   33.619965       337.257818\n",
       "3  -1.248256  7.835460   55.210831       339.851175\n",
       "4   9.273255 -2.331170  131.491592       349.013533\n",
       "..       ...       ...         ...              ...\n",
       "95 -2.035579 -5.803125  647.329377       410.972673\n",
       "96 -6.276140  8.887448   95.318116       344.668606\n",
       "97  4.791016 -0.190824   25.994080       336.341845\n",
       "98 -5.451707 -4.912870  929.602428       444.877509\n",
       "99 -8.839417 -1.311667  916.417345       443.293801\n",
       "\n",
       "[100 rows x 4 columns]"
      ]
     },
     "execution_count": 21,
     "metadata": {},
     "output_type": "execute_result"
    }
   ],
   "source": [
    "df"
   ]
  },
  {
   "cell_type": "markdown",
   "metadata": {},
   "source": [
    "##### Podstawowe statystyki po skalowaniu liniowym"
   ]
  },
  {
   "cell_type": "code",
   "execution_count": 22,
   "metadata": {},
   "outputs": [
    {
     "name": "stdout",
     "output_type": "stream",
     "text": [
      "Minimum:                 333.3941370788529\n",
      "Maksimum:                568.0612990126657\n",
      "Średnia:                 378.70753267511043\n",
      "Odchylenie standardowe:  50.14026391933755\n"
     ]
    }
   ],
   "source": [
    "print(\"Minimum:                \", np.min(df['linearly scaled']))\n",
    "print(\"Maksimum:               \", np.max(df['linearly scaled']))\n",
    "print(\"Średnia:                \", np.mean(df['linearly scaled']))\n",
    "print(\"Odchylenie standardowe: \", np.std(df['linearly scaled']))"
   ]
  },
  {
   "cell_type": "code",
   "execution_count": 23,
   "metadata": {},
   "outputs": [
    {
     "data": {
      "image/png": "[encoded data removed]",
      "text/plain": [
       "<Figure size 640x480 with 1 Axes>"
      ]
     },
     "metadata": {},
     "output_type": "display_data"
    }
   ],
   "source": [
    "from plot_points import plot_points\n",
    "\n",
    "plot_points(df['eval'], df['linearly scaled'], 'Bez Skalowania', 'Skalowanie Liniowe')"
   ]
  },
  {
   "cell_type": "markdown",
   "metadata": {},
   "source": [
    "Wnioski:\n",
    "1. Skalowanie liniowe zachowuje wartość średnią\n",
    "2. Zdecydowanie zmniejsza wartość maksymalną, ale również zwiększa wartość minimalną\n",
    "3. Całościowo wartości są zdecydowanie mniej \"rozrzucone\" niż w przypadku bez skalowania (ok. 8 krotny spadek wartości odchylenia standardowego)"
   ]
  },
  {
   "cell_type": "markdown",
   "metadata": {},
   "source": [
    "### Sprawdzenie poprawności implementacji - (C_zwiel = 1.5):\n",
    "eval(linear)_max = C_zwiel * eval_mean"
   ]
  },
  {
   "cell_type": "code",
   "execution_count": 24,
   "metadata": {},
   "outputs": [
    {
     "data": {
      "text/plain": [
       "568.0612993730066"
      ]
     },
     "execution_count": 24,
     "metadata": {},
     "output_type": "execute_result"
    }
   ],
   "source": [
    "np.mean(df['eval']) * 1.5"
   ]
  },
  {
   "cell_type": "code",
   "execution_count": 25,
   "metadata": {},
   "outputs": [
    {
     "data": {
      "text/plain": [
       "568.0612990126657"
      ]
     },
     "execution_count": 25,
     "metadata": {},
     "output_type": "execute_result"
    }
   ],
   "source": [
    "np.max(df['linearly scaled'])"
   ]
  },
  {
   "cell_type": "markdown",
   "metadata": {},
   "source": [
    "### Rosenbrock"
   ]
  },
  {
   "cell_type": "code",
   "execution_count": 26,
   "metadata": {},
   "outputs": [
    {
     "data": {
      "text/html": [
       "<div>\n",
       "<style scoped>\n",
       "    .dataframe tbody tr th:only-of-type {\n",
       "        vertical-align: middle;\n",
       "    }\n",
       "\n",
       "    .dataframe tbody tr th {\n",
       "        vertical-align: top;\n",
       "    }\n",
       "\n",
       "    .dataframe thead th {\n",
       "        text-align: right;\n",
       "    }\n",
       "</style>\n",
       "<table border=\"1\" class=\"dataframe\">\n",
       "  <thead>\n",
       "    <tr style=\"text-align: right;\">\n",
       "      <th></th>\n",
       "      <th>x1</th>\n",
       "      <th>x2</th>\n",
       "    </tr>\n",
       "  </thead>\n",
       "  <tbody>\n",
       "    <tr>\n",
       "      <th>0</th>\n",
       "      <td>-0.770884</td>\n",
       "      <td>0.804223</td>\n",
       "    </tr>\n",
       "    <tr>\n",
       "      <th>1</th>\n",
       "      <td>-0.500728</td>\n",
       "      <td>-1.312343</td>\n",
       "    </tr>\n",
       "    <tr>\n",
       "      <th>2</th>\n",
       "      <td>-1.946916</td>\n",
       "      <td>-1.772546</td>\n",
       "    </tr>\n",
       "    <tr>\n",
       "      <th>3</th>\n",
       "      <td>0.734793</td>\n",
       "      <td>-0.189658</td>\n",
       "    </tr>\n",
       "    <tr>\n",
       "      <th>4</th>\n",
       "      <td>0.149828</td>\n",
       "      <td>1.624766</td>\n",
       "    </tr>\n",
       "    <tr>\n",
       "      <th>...</th>\n",
       "      <td>...</td>\n",
       "      <td>...</td>\n",
       "    </tr>\n",
       "    <tr>\n",
       "      <th>95</th>\n",
       "      <td>-1.791128</td>\n",
       "      <td>-0.311164</td>\n",
       "    </tr>\n",
       "    <tr>\n",
       "      <th>96</th>\n",
       "      <td>-0.988430</td>\n",
       "      <td>1.429661</td>\n",
       "    </tr>\n",
       "    <tr>\n",
       "      <th>97</th>\n",
       "      <td>-1.911584</td>\n",
       "      <td>1.879993</td>\n",
       "    </tr>\n",
       "    <tr>\n",
       "      <th>98</th>\n",
       "      <td>-0.592409</td>\n",
       "      <td>-0.586929</td>\n",
       "    </tr>\n",
       "    <tr>\n",
       "      <th>99</th>\n",
       "      <td>-1.981118</td>\n",
       "      <td>-1.289288</td>\n",
       "    </tr>\n",
       "  </tbody>\n",
       "</table>\n",
       "<p>100 rows × 2 columns</p>\n",
       "</div>"
      ],
      "text/plain": [
       "          x1        x2\n",
       "0  -0.770884  0.804223\n",
       "1  -0.500728 -1.312343\n",
       "2  -1.946916 -1.772546\n",
       "3   0.734793 -0.189658\n",
       "4   0.149828  1.624766\n",
       "..       ...       ...\n",
       "95 -1.791128 -0.311164\n",
       "96 -0.988430  1.429661\n",
       "97 -1.911584  1.879993\n",
       "98 -0.592409 -0.586929\n",
       "99 -1.981118 -1.289288\n",
       "\n",
       "[100 rows x 2 columns]"
      ]
     },
     "execution_count": 26,
     "metadata": {},
     "output_type": "execute_result"
    }
   ],
   "source": [
    "size = (100, 2)\n",
    "data = np.random.uniform(-2.048, 2.048, size)\n",
    "\n",
    "df = pd.DataFrame(data=data, columns = ['x1', 'x2'])\n",
    "df"
   ]
  },
  {
   "cell_type": "code",
   "execution_count": 27,
   "metadata": {},
   "outputs": [
    {
     "data": {
      "text/html": [
       "<div>\n",
       "<style scoped>\n",
       "    .dataframe tbody tr th:only-of-type {\n",
       "        vertical-align: middle;\n",
       "    }\n",
       "\n",
       "    .dataframe tbody tr th {\n",
       "        vertical-align: top;\n",
       "    }\n",
       "\n",
       "    .dataframe thead th {\n",
       "        text-align: right;\n",
       "    }\n",
       "</style>\n",
       "<table border=\"1\" class=\"dataframe\">\n",
       "  <thead>\n",
       "    <tr style=\"text-align: right;\">\n",
       "      <th></th>\n",
       "      <th>x1</th>\n",
       "      <th>x2</th>\n",
       "      <th>eval</th>\n",
       "    </tr>\n",
       "  </thead>\n",
       "  <tbody>\n",
       "    <tr>\n",
       "      <th>0</th>\n",
       "      <td>-0.770884</td>\n",
       "      <td>0.804223</td>\n",
       "      <td>7.544379</td>\n",
       "    </tr>\n",
       "    <tr>\n",
       "      <th>1</th>\n",
       "      <td>-0.500728</td>\n",
       "      <td>-1.312343</td>\n",
       "      <td>246.571698</td>\n",
       "    </tr>\n",
       "    <tr>\n",
       "      <th>2</th>\n",
       "      <td>-1.946916</td>\n",
       "      <td>-1.772546</td>\n",
       "      <td>3103.411412</td>\n",
       "    </tr>\n",
       "    <tr>\n",
       "      <th>3</th>\n",
       "      <td>0.734793</td>\n",
       "      <td>-0.189658</td>\n",
       "      <td>53.298768</td>\n",
       "    </tr>\n",
       "    <tr>\n",
       "      <th>4</th>\n",
       "      <td>0.149828</td>\n",
       "      <td>1.624766</td>\n",
       "      <td>257.464785</td>\n",
       "    </tr>\n",
       "    <tr>\n",
       "      <th>...</th>\n",
       "      <td>...</td>\n",
       "      <td>...</td>\n",
       "      <td>...</td>\n",
       "    </tr>\n",
       "    <tr>\n",
       "      <th>95</th>\n",
       "      <td>-1.791128</td>\n",
       "      <td>-0.311164</td>\n",
       "      <td>1246.339408</td>\n",
       "    </tr>\n",
       "    <tr>\n",
       "      <th>96</th>\n",
       "      <td>-0.988430</td>\n",
       "      <td>1.429661</td>\n",
       "      <td>24.444589</td>\n",
       "    </tr>\n",
       "    <tr>\n",
       "      <th>97</th>\n",
       "      <td>-1.911584</td>\n",
       "      <td>1.879993</td>\n",
       "      <td>323.242089</td>\n",
       "    </tr>\n",
       "    <tr>\n",
       "      <th>98</th>\n",
       "      <td>-0.592409</td>\n",
       "      <td>-0.586929</td>\n",
       "      <td>90.497138</td>\n",
       "    </tr>\n",
       "    <tr>\n",
       "      <th>99</th>\n",
       "      <td>-1.981118</td>\n",
       "      <td>-1.289288</td>\n",
       "      <td>2727.590471</td>\n",
       "    </tr>\n",
       "  </tbody>\n",
       "</table>\n",
       "<p>100 rows × 3 columns</p>\n",
       "</div>"
      ],
      "text/plain": [
       "          x1        x2         eval\n",
       "0  -0.770884  0.804223     7.544379\n",
       "1  -0.500728 -1.312343   246.571698\n",
       "2  -1.946916 -1.772546  3103.411412\n",
       "3   0.734793 -0.189658    53.298768\n",
       "4   0.149828  1.624766   257.464785\n",
       "..       ...       ...          ...\n",
       "95 -1.791128 -0.311164  1246.339408\n",
       "96 -0.988430  1.429661    24.444589\n",
       "97 -1.911584  1.879993   323.242089\n",
       "98 -0.592409 -0.586929    90.497138\n",
       "99 -1.981118 -1.289288  2727.590471\n",
       "\n",
       "[100 rows x 3 columns]"
      ]
     },
     "execution_count": 27,
     "metadata": {},
     "output_type": "execute_result"
    }
   ],
   "source": [
    "from rosenbrock import rosenbrock\n",
    "\n",
    "df['eval'] = df.apply(lambda x: rosenbrock(x['x1'], x['x2']), axis = 1)\n",
    "\n",
    "df"
   ]
  },
  {
   "cell_type": "markdown",
   "metadata": {},
   "source": [
    "##### Podstawowe statystyki bez skalowania"
   ]
  },
  {
   "cell_type": "code",
   "execution_count": 28,
   "metadata": {},
   "outputs": [
    {
     "name": "stdout",
     "output_type": "stream",
     "text": [
      "Minimum:                 0.3648667508189426\n",
      "Maksimum:                3103.4114119851192\n",
      "Średnia:                 473.98795692360517\n",
      "Odchylenie standardowe:  633.1687480503583\n"
     ]
    }
   ],
   "source": [
    "print(\"Minimum:                \", np.min(df['eval']))\n",
    "print(\"Maksimum:               \", np.max(df['eval']))\n",
    "print(\"Średnia:                \", np.mean(df['eval']))\n",
    "print(\"Odchylenie standardowe: \", np.std(df['eval']))"
   ]
  },
  {
   "cell_type": "markdown",
   "metadata": {},
   "source": [
    "#### Skalowanie liniowe"
   ]
  },
  {
   "cell_type": "code",
   "execution_count": 29,
   "metadata": {},
   "outputs": [
    {
     "name": "stdout",
     "output_type": "stream",
     "text": [
      "0.0901315373586818 431.2666934963169\n"
     ]
    }
   ],
   "source": [
    "linear = linear_scaling(df['eval'])\n",
    "df['linearly scaled'] = linear"
   ]
  },
  {
   "cell_type": "markdown",
   "metadata": {},
   "source": [
    "##### Podstawowe statystyki po skalowaniu liniowym"
   ]
  },
  {
   "cell_type": "code",
   "execution_count": 30,
   "metadata": {},
   "outputs": [
    {
     "name": "stdout",
     "output_type": "stream",
     "text": [
      "Minimum:                 431.2995794974993\n",
      "Maksimum:                710.9819351150131\n",
      "Średnia:                 473.98795674334207\n",
      "Odchylenie standardowe:  57.06847266925064\n"
     ]
    }
   ],
   "source": [
    "print(\"Minimum:                \", np.min(df['linearly scaled']))\n",
    "print(\"Maksimum:               \", np.max(df['linearly scaled']))\n",
    "print(\"Średnia:                \", np.mean(df['linearly scaled']))\n",
    "print(\"Odchylenie standardowe: \", np.std(df['linearly scaled']))"
   ]
  },
  {
   "cell_type": "code",
   "execution_count": 31,
   "metadata": {},
   "outputs": [
    {
     "data": {
      "image/png": "[encoded data removed]",
      "text/plain": [
       "<Figure size 640x480 with 1 Axes>"
      ]
     },
     "metadata": {},
     "output_type": "display_data"
    }
   ],
   "source": [
    "plot_points(df['eval'], df['linearly scaled'], 'Bez Skalowania', 'Skalowanie Liniowe')"
   ]
  },
  {
   "cell_type": "markdown",
   "metadata": {},
   "source": [
    "Wnioski:\n",
    "1. Skalowanie liniowe zachowuje wartość średnią\n",
    "2. Zdecydowanie zmniejsza wartość maksymalną, ale również zwiększa wartość minimalną\n",
    "3. Całościowo wartości są zdecydowanie mniej \"rozrzucone\" niż w przypadku bez skalowania (ok. 11 krotny spadek wartości odchylenia standardowego)"
   ]
  },
  {
   "cell_type": "markdown",
   "metadata": {},
   "source": [
    "### Liniowe skalowanie funkcja celu Rosenbrock VS Booth:\n",
    "1. W przpadku Rosenbrock bardziej zmniejszyło wartość odchylenia standardowego (11 vs 8 krotnie)\n",
    "2. W przypadku funkcji Booth wartości były rozłożone bliżej 0, znaczy się przedział ok. (333, 568) vs (431, 710) w funkcji Rosenbrocka*\n",
    "3. Oby dwie funkcje \"wytrącają\" wartości mocno z wartości bliskich 0\n",
    "\n",
    "*Choć należy zaznaczyć, że wyniki dla funkcji Rosenbrocka bez skalowania mają większe zakresy niż funkcji Booth"
   ]
  }
 ],
 "metadata": {
  "kernelspec": {
   "display_name": "Python 3",
   "language": "python",
   "name": "python3"
  },
  "language_info": {
   "codemirror_mode": {
    "name": "ipython",
    "version": 3
   },
   "file_extension": ".py",
   "mimetype": "text/x-python",
   "name": "python",
   "nbconvert_exporter": "python",
   "pygments_lexer": "ipython3",
   "version": "3.12.3"
  }
 },
 "nbformat": 4,
 "nbformat_minor": 2
}
